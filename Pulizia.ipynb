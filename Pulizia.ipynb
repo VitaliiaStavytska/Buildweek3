{
 "cells": [
  {
   "cell_type": "code",
   "execution_count": 14,
   "id": "0f038773-6573-47a9-b6c7-286ad1226208",
   "metadata": {
    "tags": []
   },
   "outputs": [],
   "source": [
    "import pandas as pd\n",
    "import numpy as np\n",
    "\n",
    "with open('.\\owid-energy-data.csv', 'r') as file:\n",
    "    energy= pd.read_csv('.\\owid-energy-data.csv')\n",
    "    co2= pd.read_csv('.\\owid-co2-data.csv')\n",
    "    #TEMPERATURE --> IMPORTO IL DATASET SPORCO E TRASPOSTO\n",
    "    temperature= pd.read_csv('.\\Indicatori climatici.csv')\n",
    "#RIMPIAZZO I VALORI DI PAESI CHE NEL DATASET SULLE TEMPERATURE HANNO DENOMINAZIONE DIFFERENTE RISPETTO AGLI ALTRI DUE DATASET CON UN DIZIONARIO  \n",
    "temperature['Country'] = temperature['Country'].replace({'Czech Rep.': 'Czechia','Estonia, Rep. of': 'Estonia','Netherlands, The':'Netherlands','Poland, Rep. of':'Poland','Slovak Rep.':'Slovakia','Slovenia, Rep. of':'Slovenia'})\n",
    "#CREO UNA LISTA CHE CONTENGA I NOMI DEI PAESI DELL'UE \n",
    "paesi_ue = ['Austria', 'Belgium', 'Bulgaria', 'Cyprus', 'Czechia', 'Denmark', 'Estonia', 'Finland', 'France', 'Germany', 'Greece', 'Hungary', 'Ireland', 'Italy', 'Latvia', 'Lithuania', 'Luxembourg', 'Malta', 'Netherlands', 'Poland', 'Portugal', 'Romania', 'Slovakia', 'Slovenia', 'Spain', 'Sweden','United Kingdom']\n",
    "df_ue_co2 = co2[(co2['country'].isin(paesi_ue)) & (co2['year'] >= 1993)]\n",
    "df_ue_energy=energy[(energy['country'].isin(paesi_ue)) & (energy['year'] >= 1993)]\n",
    "\n",
    "#CANCELLO TUTTE LE COLONNE RELATIVE AGLI ANNI CHE NON CI INTERESSANO E MI TENGO IL RANGE '93-2022 ED ANCHE LA PRIMA COLONNA CHE E' UN IDENTIFICATORE CHE NON CI INTERESSA\n",
    "temperature=temperature.drop(temperature.columns[2:42], axis=1)\n",
    "temperature=temperature.drop(temperature.columns[0], axis=1)\n",
    "\n",
    "#SELEZIONO SOLO LE RIGHE CHE ABBIANO COME VALORE DI COUNTRY, QUELLI STABILITI DA NOI IN LISTA PAESI_UE\n",
    "df_ue_temperature=temperature[temperature['Country'].isin(paesi_ue)]\n",
    "#FACCIO UN MELT IN MODO TALE DA AVERE GLI ANNI COME VALORI PUNTUALI DI RIGA, COSì CHE OGNI PAESE ABBIA L'ANNO COME VALORE DI UNA COLONNA 'YEAR' E IL RELATIVO VALORE ASSOCIATO\n",
    "#PIUTTOSTO CHE AVERE UNA MIRIADE DI COLONNE, UNA PER ANNO, INUTILIZZABILI POI IN POWER B.I.\n",
    "df_ue_temperature = pd.melt(df_ue_temperature, id_vars=['Country'], var_name='year', value_name='t_change')\n",
    "df_ue_temperature['t_change'] = df_ue_temperature['t_change'].replace({None: 0})\n",
    "#ME LI ORDINO IN MANIERA CRESCENTE SIA PER PAESE CHE PER ANNO, COSì COME LI ABBIAMO NEGLI ALTRI 2 DATASET\n",
    "temp=df_ue_temperature.sort_values(by=['Country', 'year'])\n",
    "temp.to_csv('Unione_europea_temperature.csv')\n",
    "#df_ue_co2.to_csv('Unione_europea_co2.csv')\n",
    "#df_ue_energy.to_csv('Unione_europea_energy.csv')\n",
    "#df_1993 = df_ue_co2[df_ue_co2['year'] == 2018]\n",
    "#media_gdp_1993 = df_1993['gdp'].mean()\n",
    "#print(\"Media 1993:\", media_gdp_1993)\n",
    "#print(df_ue.nunique())\n",
    "#print(df_ue)\n",
    "\n"
   ]
  },
  {
   "cell_type": "code",
   "execution_count": null,
   "id": "9464cc18-d526-4efa-8844-e7f249caf4b9",
   "metadata": {},
   "outputs": [],
   "source": [
    "#voglio proiettare in un grafico a barre l'andamento di pil e popolazione in italia dal 1993 al 2022\n"
   ]
  }
 ],
 "metadata": {
  "kernelspec": {
   "display_name": "Python 3 (ipykernel)",
   "language": "python",
   "name": "python3"
  },
  "language_info": {
   "codemirror_mode": {
    "name": "ipython",
    "version": 3
   },
   "file_extension": ".py",
   "mimetype": "text/x-python",
   "name": "python",
   "nbconvert_exporter": "python",
   "pygments_lexer": "ipython3",
   "version": "3.11.5"
  }
 },
 "nbformat": 4,
 "nbformat_minor": 5
}
