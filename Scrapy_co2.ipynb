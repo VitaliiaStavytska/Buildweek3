{
 "cells": [
  {
   "cell_type": "code",
   "execution_count": 6,
   "id": "901be01d-3488-450f-8189-a97a97757e6c",
   "metadata": {
    "tags": []
   },
   "outputs": [],
   "source": [
    "import requests\n",
    "from bs4 import BeautifulSoup\n",
    "import pandas as pd\n",
    "import re \n",
    "\n",
    "url = \"https://gml.noaa.gov/webdata/ccgg/trends/co2/co2_annmean_gl.txt\"\n",
    "response = requests.get(url)\n",
    "if response.status_code == 200:\n",
    "    lines = response.text.split(\"\\n\")\n",
    "    lines = lines[58:]\n",
    "    data = [re.split(r'\\s+', line.strip()) for line in lines if line.strip()]\n",
    "    df = pd.DataFrame(data, columns=[\"Year\", \"CO2\", \"Uncertainty\"])\n",
    "    df.to_csv('co2_atmosferica.csv', index=False)\n",
    "else:\n",
    "    print(\"Errore nella richiesta HTTP:\", response.status_code)"
   ]
  },
  {
   "cell_type": "code",
   "execution_count": null,
   "id": "d8898330-3003-479d-82ee-36ac50d12444",
   "metadata": {},
   "outputs": [],
   "source": []
  }
 ],
 "metadata": {
  "kernelspec": {
   "display_name": "Python 3 (ipykernel)",
   "language": "python",
   "name": "python3"
  },
  "language_info": {
   "codemirror_mode": {
    "name": "ipython",
    "version": 3
   },
   "file_extension": ".py",
   "mimetype": "text/x-python",
   "name": "python",
   "nbconvert_exporter": "python",
   "pygments_lexer": "ipython3",
   "version": "3.11.5"
  }
 },
 "nbformat": 4,
 "nbformat_minor": 5
}
